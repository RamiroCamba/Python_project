{
 "cells": [
  {
   "cell_type": "markdown",
   "id": "c1644e10-c71a-4145-b85a-00f4b26623fc",
   "metadata": {},
   "source": [
    "# Cadenas en python (ya vinculado a git)"
   ]
  },
  {
   "cell_type": "code",
   "execution_count": 2,
   "id": "8cc0532b-0960-4ae5-b65b-da93ee818a24",
   "metadata": {},
   "outputs": [],
   "source": [
    "cadena = \"Hola mudno\""
   ]
  },
  {
   "cell_type": "code",
   "execution_count": 3,
   "id": "40be87d6-f3d0-4c68-90f1-6601136f18f3",
   "metadata": {},
   "outputs": [
    {
     "name": "stdout",
     "output_type": "stream",
     "text": [
      "Hola mudno\n"
     ]
    }
   ],
   "source": [
    "print(cadena)"
   ]
  },
  {
   "cell_type": "code",
   "execution_count": 4,
   "id": "f0cd5163-c6af-4878-b46b-bb5e0bfb9c6a",
   "metadata": {},
   "outputs": [
    {
     "name": "stdout",
     "output_type": "stream",
     "text": [
      "22\n"
     ]
    }
   ],
   "source": [
    "edad = 22\n",
    "print(edad)"
   ]
  },
  {
   "cell_type": "code",
   "execution_count": null,
   "id": "00daa96c-f22d-4dec-a1d9-eab6e3e6a166",
   "metadata": {},
   "outputs": [],
   "source": []
  }
 ],
 "metadata": {
  "kernelspec": {
   "display_name": "Python 3 (ipykernel)",
   "language": "python",
   "name": "python3"
  },
  "language_info": {
   "codemirror_mode": {
    "name": "ipython",
    "version": 3
   },
   "file_extension": ".py",
   "mimetype": "text/x-python",
   "name": "python",
   "nbconvert_exporter": "python",
   "pygments_lexer": "ipython3",
   "version": "3.13.9"
  }
 },
 "nbformat": 4,
 "nbformat_minor": 5
}
