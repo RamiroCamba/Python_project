{
 "cells": [
  {
   "cell_type": "markdown",
   "id": "c1644e10-c71a-4145-b85a-00f4b26623fc",
   "metadata": {},
   "source": [
    "# Cadenas en python (ya vinculado a git)"
   ]
  },
  {
   "cell_type": "code",
   "execution_count": 2,
   "id": "8cc0532b-0960-4ae5-b65b-da93ee818a24",
   "metadata": {},
   "outputs": [],
   "source": [
    "cadena = \"Hola mudno\""
   ]
  },
  {
   "cell_type": "code",
   "execution_count": 3,
   "id": "40be87d6-f3d0-4c68-90f1-6601136f18f3",
   "metadata": {},
   "outputs": [
    {
     "name": "stdout",
     "output_type": "stream",
     "text": [
      "Hola mudno\n"
     ]
    }
   ],
   "source": [
    "print(cadena)"
   ]
  },
  {
   "cell_type": "code",
   "execution_count": 4,
   "id": "f0cd5163-c6af-4878-b46b-bb5e0bfb9c6a",
   "metadata": {},
   "outputs": [
    {
     "name": "stdout",
     "output_type": "stream",
     "text": [
      "22\n"
     ]
    }
   ],
   "source": [
    "edad = 22\n",
    "print(edad)"
   ]
  },
  {
   "cell_type": "markdown",
   "id": "7e74a645-90f7-4373-952b-fa9feb3a99ea",
   "metadata": {},
   "source": [
    "## booleanos"
   ]
  },
  {
   "cell_type": "code",
   "execution_count": 6,
   "id": "45ad9ddc-5b36-4fb8-ba8f-760d21088d12",
   "metadata": {},
   "outputs": [
    {
     "name": "stdout",
     "output_type": "stream",
     "text": [
      "True\n"
     ]
    }
   ],
   "source": [
    "bool1 = True\n",
    "print(bool1)"
   ]
  },
  {
   "cell_type": "code",
   "execution_count": null,
   "id": "e1d4e0e8-b8cb-4c7d-98bb-ec8a6074f7f8",
   "metadata": {},
   "outputs": [],
   "source": []
  }
 ],
 "metadata": {
  "kernelspec": {
   "display_name": "Python 3 (ipykernel)",
   "language": "python",
   "name": "python3"
  },
  "language_info": {
   "codemirror_mode": {
    "name": "ipython",
    "version": 3
   },
   "file_extension": ".py",
   "mimetype": "text/x-python",
   "name": "python",
   "nbconvert_exporter": "python",
   "pygments_lexer": "ipython3",
   "version": "3.13.9"
  }
 },
 "nbformat": 4,
 "nbformat_minor": 5
}
