{
 "cells": [
  {
   "cell_type": "markdown",
   "id": "c1644e10-c71a-4145-b85a-00f4b26623fc",
   "metadata": {},
   "source": [
    "# Conversion entre tipos de datos"
   ]
  },
  {
   "cell_type": "code",
   "execution_count": 8,
   "id": "74180e8a-75c5-4e7a-a451-dfbe2b811dff",
   "metadata": {},
   "outputs": [
    {
     "name": "stdout",
     "output_type": "stream",
     "text": [
      "<class 'str'>\n",
      "23\n",
      "<class 'int'>\n",
      "23\n"
     ]
    }
   ],
   "source": [
    "edad_string = \"23\"\n",
    "print(type(edad_string))\n",
    "print(edad_string)\n",
    "edad_int = int(edad_string)\n",
    "print(type(edad_int))\n",
    "print(edad_int)"
   ]
  },
  {
   "cell_type": "code",
   "execution_count": null,
   "id": "48fa7439-c2f5-40c6-934c-ae0936b99fa1",
   "metadata": {},
   "outputs": [],
   "source": []
  }
 ],
 "metadata": {
  "kernelspec": {
   "display_name": "Python 3 (ipykernel)",
   "language": "python",
   "name": "python3"
  },
  "language_info": {
   "codemirror_mode": {
    "name": "ipython",
    "version": 3
   },
   "file_extension": ".py",
   "mimetype": "text/x-python",
   "name": "python",
   "nbconvert_exporter": "python",
   "pygments_lexer": "ipython3",
   "version": "3.13.9"
  }
 },
 "nbformat": 4,
 "nbformat_minor": 5
}
